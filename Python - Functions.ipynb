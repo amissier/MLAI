{
 "cells": [
  {
   "attachments": {
    "python.png": {
     "image/png": "[encoded data removed]"
    }
   },
   "cell_type": "markdown",
   "metadata": {},
   "source": [
    "# PYTHON FUNDAMENTALS - Rose Missier\n",
    "![python.png](attachment:python.png)"
   ]
  },
  {
   "cell_type": "markdown",
   "metadata": {},
   "source": [
    "\n",
    "\n",
    "\n",
    "## FUNCTIONS\n",
    "\n",
    "- repetitive calls rather than duplicating code\n",
    "- parameters in the definition\n",
    "- arguments are the values that are passed when the function is invoked\n",
    "- return None : at end of function definition, if there is no return statement\n",
    "- keyword arguments are optional parameters"
   ]
  },
  {
   "cell_type": "code",
   "execution_count": 1,
   "metadata": {},
   "outputs": [],
   "source": [
    "# pass no parameters, no return value\n",
    "def a():\n",
    "    pass"
   ]
  },
  {
   "cell_type": "code",
   "execution_count": 2,
   "metadata": {},
   "outputs": [],
   "source": [
    "# define a function add with two arguments n1, n2 and return the sum\n",
    "def add(n1,n2):\n",
    "    return n1+n2"
   ]
  },
  {
   "cell_type": "code",
   "execution_count": 3,
   "metadata": {},
   "outputs": [
    {
     "data": {
      "text/plain": [
       "5"
      ]
     },
     "execution_count": 3,
     "metadata": {},
     "output_type": "execute_result"
    }
   ],
   "source": [
    "# invoke the add function\n",
    "add(2,3)"
   ]
  },
  {
   "cell_type": "code",
   "execution_count": 1,
   "metadata": {},
   "outputs": [
    {
     "name": "stdout",
     "output_type": "stream",
     "text": [
      "('Ed Sheeran', 27, 'Melbourne')\n"
     ]
    }
   ],
   "source": [
    "# define a function to return multiple values\n",
    "artist = \"Ed Sheeran\"\n",
    "age = 27\n",
    "def getPersonDetails():\n",
    "    return artist,age,\"Melbourne\"\n",
    "\n",
    "print(getPersonDetails())\n"
   ]
  },
  {
   "cell_type": "code",
   "execution_count": 2,
   "metadata": {},
   "outputs": [
    {
     "name": "stdout",
     "output_type": "stream",
     "text": [
      "\n"
     ]
    },
    {
     "data": {
      "text/plain": [
       "NoneType"
      ]
     },
     "execution_count": 2,
     "metadata": {},
     "output_type": "execute_result"
    }
   ],
   "source": [
    "# Let's check return type of print\n",
    "type(print())"
   ]
  },
  {
   "cell_type": "code",
   "execution_count": 3,
   "metadata": {},
   "outputs": [
    {
     "name": "stdout",
     "output_type": "stream",
     "text": [
      "name\n"
     ]
    },
    {
     "data": {
      "text/plain": [
       "NoneType"
      ]
     },
     "execution_count": 3,
     "metadata": {},
     "output_type": "execute_result"
    }
   ],
   "source": [
    "# Let's check return type of print when a string is passed\n",
    "s1 = print('name')\n",
    "type(s1)"
   ]
  },
  {
   "cell_type": "code",
   "execution_count": 7,
   "metadata": {},
   "outputs": [
    {
     "name": "stdout",
     "output_type": "stream",
     "text": [
      "Alice Bob Carl."
     ]
    }
   ],
   "source": [
    "# print with an end character\n",
    "print('Alice','Bob','Carl', end='.')"
   ]
  },
  {
   "cell_type": "code",
   "execution_count": 8,
   "metadata": {},
   "outputs": [
    {
     "name": "stdout",
     "output_type": "stream",
     "text": [
      "Alice, Bob, Carl\n"
     ]
    }
   ],
   "source": [
    "# print with a seperator character\n",
    "print('Alice','Bob','Carl', sep=', ')"
   ]
  },
  {
   "cell_type": "code",
   "execution_count": 5,
   "metadata": {},
   "outputs": [
    {
     "ename": "NameError",
     "evalue": "name 'ch' is not defined",
     "output_type": "error",
     "traceback": [
      "\u001b[0;31m---------------------------------------------------------------------------\u001b[0m",
      "\u001b[0;31mNameError\u001b[0m                                 Traceback (most recent call last)",
      "\u001b[0;32m<ipython-input-5-db16d2c99114>\u001b[0m in \u001b[0;36m<module>\u001b[0;34m\u001b[0m\n\u001b[1;32m      4\u001b[0m     \u001b[0mch\u001b[0m \u001b[0;34m=\u001b[0m \u001b[0;36m123\u001b[0m\u001b[0;34m\u001b[0m\u001b[0;34m\u001b[0m\u001b[0m\n\u001b[1;32m      5\u001b[0m \u001b[0;34m\u001b[0m\u001b[0m\n\u001b[0;32m----> 6\u001b[0;31m \u001b[0mprint\u001b[0m\u001b[0;34m(\u001b[0m\u001b[0mch\u001b[0m\u001b[0;34m)\u001b[0m\u001b[0;34m\u001b[0m\u001b[0;34m\u001b[0m\u001b[0m\n\u001b[0m",
      "\u001b[0;31mNameError\u001b[0m: name 'ch' is not defined"
     ]
    }
   ],
   "source": [
    "# local variable : define a function to print a character\n",
    "# throw an error since ch is not in the scope of print()\n",
    "def printChar():\n",
    "    ch = 123\n",
    "\n",
    "print(ch)"
   ]
  },
  {
   "cell_type": "code",
   "execution_count": 3,
   "metadata": {},
   "outputs": [
    {
     "name": "stdout",
     "output_type": "stream",
     "text": [
      "Inside function b\n",
      "Outside function a\n"
     ]
    }
   ],
   "source": [
    "\n",
    "#global variable\n",
    "ch = 'a'\n",
    "\n",
    "# print local variable\n",
    "def printLocalChar():\n",
    "    ch = 'b'\n",
    "    print('Inside function '+ str(ch))\n",
    "    \n",
    "printLocalChar()\n",
    "print(\"Outside function \"+ch)"
   ]
  },
  {
   "cell_type": "code",
   "execution_count": 11,
   "metadata": {},
   "outputs": [
    {
     "name": "stdout",
     "output_type": "stream",
     "text": [
      "123\n"
     ]
    }
   ],
   "source": [
    "# global keyword : to change global variable from inside the function\n",
    "def printGlobalChar():\n",
    "    global ch\n",
    "    ch = 123\n",
    "    \n",
    "printGlobalChar()\n",
    "print(ch)"
   ]
  },
  {
   "cell_type": "code",
   "execution_count": 6,
   "metadata": {},
   "outputs": [
    {
     "name": "stdout",
     "output_type": "stream",
     "text": [
      "Shape\n",
      "of\n",
      "you\n"
     ]
    }
   ],
   "source": [
    "# Nested functions : Print every word in a sentence\n",
    "def speak(phrase):\n",
    "    def say(Word):\n",
    "        print(Word)\n",
    "\n",
    "    words = phrase.split(' ')\n",
    "    for w in words:\n",
    "        say(w)\n",
    "\n",
    "speak(\"Shape of you\")"
   ]
  },
  {
   "cell_type": "code",
   "execution_count": 7,
   "metadata": {},
   "outputs": [
    {
     "name": "stdout",
     "output_type": "stream",
     "text": [
      "9\n"
     ]
    }
   ],
   "source": [
    "# CLOSURE - read only access to outer variable : Print outer variable in nested function\n",
    "def printCount():\n",
    "    count = 9\n",
    "    def increment():\n",
    "        print(count)\n",
    "    increment()\n",
    "\n",
    "printCount()"
   ]
  },
  {
   "cell_type": "code",
   "execution_count": 8,
   "metadata": {},
   "outputs": [
    {
     "data": {
      "text/plain": [
       "19"
      ]
     },
     "execution_count": 8,
     "metadata": {},
     "output_type": "execute_result"
    }
   ],
   "source": [
    "# CLOSURE - read only access to outer variable : Return outer variable in nested function\n",
    "def getCount():\n",
    "    count = 19\n",
    "    def increment():\n",
    "        return count\n",
    "    return increment()\n",
    "\n",
    "getCount()"
   ]
  },
  {
   "cell_type": "code",
   "execution_count": 9,
   "metadata": {},
   "outputs": [
    {
     "name": "stdout",
     "output_type": "stream",
     "text": [
      "1\n"
     ]
    }
   ],
   "source": [
    "# non local in nested functions - access to modify outer\n",
    "def printUpdatedCount():\n",
    "    count = 0\n",
    "    def increment():\n",
    "        nonlocal count\n",
    "        count = count + 1\n",
    "        print(count)\n",
    "    increment()\n",
    "\n",
    "printUpdatedCount()\n"
   ]
  },
  {
   "cell_type": "code",
   "execution_count": 16,
   "metadata": {},
   "outputs": [
    {
     "data": {
      "text/plain": [
       "101"
      ]
     },
     "execution_count": 16,
     "metadata": {},
     "output_type": "execute_result"
    }
   ],
   "source": [
    "# non local in nested functions - access to modify outer\n",
    "def returnPrintedCount():\n",
    "    count = 100\n",
    "    def increment():\n",
    "        nonlocal count\n",
    "        count = count + 1\n",
    "        return count\n",
    "    return increment()\n",
    "\n",
    "returnPrintedCount()\n"
   ]
  },
  {
   "cell_type": "code",
   "execution_count": 17,
   "metadata": {},
   "outputs": [
    {
     "name": "stdout",
     "output_type": "stream",
     "text": [
      "21\n",
      "22\n",
      "23\n"
     ]
    }
   ],
   "source": [
    "# And another example of CLOSURE - pass argument in outer function\n",
    "def counter(count):\n",
    "    def increments():\n",
    "        nonlocal count \n",
    "        count = count +1\n",
    "        return count\n",
    "    return increments\n",
    "\n",
    "increments =counter(20)\n",
    "print(increments())\n",
    "print(increments())\n",
    "print(increments())"
   ]
  },
  {
   "cell_type": "code",
   "execution_count": 18,
   "metadata": {},
   "outputs": [],
   "source": [
    "# positional arguments precede keyword arguments\n",
    "def func(pos,key=1): \n",
    "    pass"
   ]
  },
  {
   "cell_type": "code",
   "execution_count": 10,
   "metadata": {},
   "outputs": [
    {
     "name": "stdout",
     "output_type": "stream",
     "text": [
      "[1]\n",
      "[1, 2]\n",
      "[1, 2, 3]\n"
     ]
    }
   ],
   "source": [
    "# keyword arguments shared between consecutive calls\n",
    "def f(a, L=[]):\n",
    "   \n",
    "    L.append(a)\n",
    "    return L\n",
    "\n",
    "print(f(1))\n",
    "print(f(2))\n",
    "print(f(3))"
   ]
  },
  {
   "cell_type": "code",
   "execution_count": 20,
   "metadata": {},
   "outputs": [
    {
     "name": "stdout",
     "output_type": "stream",
     "text": [
      "[1]\n",
      "[2]\n",
      "[3]\n"
     ]
    }
   ],
   "source": [
    "# Do not want L to be shared between calls use 'None'?\n",
    "def f(a, L=None):\n",
    "    if L is None:\n",
    "        L = []\n",
    "    L.append(a)\n",
    "    return L\n",
    "\n",
    "print(f(1))\n",
    "print(f(2))\n",
    "print(f(3))"
   ]
  },
  {
   "cell_type": "code",
   "execution_count": 21,
   "metadata": {},
   "outputs": [
    {
     "name": "stdout",
     "output_type": "stream",
     "text": [
      "City is Bengaluru\n"
     ]
    }
   ],
   "source": [
    "#unknown number of arguments using *\n",
    "\n",
    "def getCity(*city):\n",
    "    print(\"City is \" + city[1])\n",
    "    \n",
    "getCity(\"Delhi\",\"Bengaluru\",\"Chennai\")"
   ]
  },
  {
   "cell_type": "code",
   "execution_count": 22,
   "metadata": {},
   "outputs": [
    {
     "name": "stdout",
     "output_type": "stream",
     "text": [
      "Shivers\n",
      "Perfect\n",
      "Thinking out Loud\n",
      "location : USA\n",
      "singer : Ed Sheeran\n"
     ]
    }
   ],
   "source": [
    "# Unknown number of keyword arguments using **\n",
    "\n",
    "def getSongList(kind,*pos,**keywords):\n",
    "    \n",
    "    print(kind)\n",
    "    for i in pos:\n",
    "        print(i)\n",
    "    for k in keywords:\n",
    "        print(k,\":\",keywords[k])\n",
    "\n",
    "getSongList('Shivers','Perfect', 'Thinking out Loud',location='USA',singer='Ed Sheeran' )"
   ]
  },
  {
   "cell_type": "markdown",
   "metadata": {},
   "source": [
    "## CODING EXERCISE - count items given a nested dictionary"
   ]
  },
  {
   "cell_type": "code",
   "execution_count": 12,
   "metadata": {},
   "outputs": [],
   "source": [
    "potluck = {\"Ankit\" :{'bhel':4,'pani':4},\n",
    "           'Carl':{'dosa':12,'biryani':25,'pani':5}\n",
    "    \n",
    "}\n",
    "\n",
    "\"\"\" This is \n",
    "to get the count of every item\n",
    "given a dict of items that people bring\n",
    "\"\"\"\n",
    "def totalItem(potluck,item):\n",
    "    num = 0\n",
    "    for k,v in potluck.items():\n",
    "        num+=v.get(item,0)\n",
    "    return num"
   ]
  },
  {
   "cell_type": "code",
   "execution_count": 13,
   "metadata": {},
   "outputs": [
    {
     "data": {
      "text/plain": [
       "9"
      ]
     },
     "execution_count": 13,
     "metadata": {},
     "output_type": "execute_result"
    }
   ],
   "source": [
    "totalItem(potluck,'pani')"
   ]
  },
  {
   "cell_type": "code",
   "execution_count": null,
   "metadata": {},
   "outputs": [],
   "source": []
  }
 ],
 "metadata": {
  "kernelspec": {
   "display_name": "Python 3",
   "language": "python",
   "name": "python3"
  },
  "language_info": {
   "codemirror_mode": {
    "name": "ipython",
    "version": 3
   },
   "file_extension": ".py",
   "mimetype": "text/x-python",
   "name": "python",
   "nbconvert_exporter": "python",
   "pygments_lexer": "ipython3",
   "version": "3.8.5"
  }
 },
 "nbformat": 4,
 "nbformat_minor": 4
}
