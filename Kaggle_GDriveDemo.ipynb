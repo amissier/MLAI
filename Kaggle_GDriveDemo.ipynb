{
  "nbformat": 4,
  "nbformat_minor": 0,
  "metadata": {
    "colab": {
      "name": "Kaggle-GDriveDemo.ipynb",
      "provenance": [],
      "authorship_tag": "ABX9TyPA1ByTcknpTtqzs3nooyA0"
    },
    "kernelspec": {
      "name": "python3",
      "display_name": "Python 3"
    },
    "language_info": {
      "name": "python"
    }
  },
  "cells": [
    {
      "cell_type": "markdown",
      "source": [
        ""
      ],
      "metadata": {
        "id": "qQfXJWfFrEYF"
      }
    },
    {
      "cell_type": "markdown",
      "source": [
        "# Import Datasets from Kaggle to Drive and vice-versa\n",
        "\n",
        "Kaggle is a great platform for data scientists, ML practitioners and for any data enthusiast like myself. With a myriad datasets and APIs, datasets can easily be imported into Google Drive for convenience using Google Colab. Not to worry, if you have your own dataset then Kaggle allows you to load them into their Kernel as well!\n",
        "This post will help anyone to use datasets across both Kaggle and Google drive.\n",
        "\n",
        "### Pre-Requisites\n",
        "1. Create a folder for Kaggle datasets and mount the drive\n",
        "2. Create a Kaggle account. Use the Copy API token option and then copy the downloaded kaggle.json into your Kaggle folder on GDrive\n",
        "\n"
      ],
      "metadata": {
        "id": "pDjbZf4ErKRE"
      }
    },
    {
      "cell_type": "code",
      "source": [
        "# Mount the drive\n",
        "from google.colab import drive\n",
        "drive.mount('/content/drive')"
      ],
      "metadata": {
        "colab": {
          "base_uri": "https://localhost:8080/"
        },
        "id": "Ieg-DqyhrFOy",
        "outputId": "2ac35eb7-9a83-415e-8c9a-c5895737ba24"
      },
      "execution_count": 1,
      "outputs": [
        {
          "output_type": "stream",
          "name": "stdout",
          "text": [
            "Mounted at /content/drive\n"
          ]
        }
      ]
    },
    {
      "cell_type": "code",
      "source": [
        "# Configure Kaggle\n",
        "import os\n",
        "os.environ['KAGGLE_CONFIG_DIR'] = \"/content/drive/MyDrive/Kaggle\""
      ],
      "metadata": {
        "id": "vwtjQsrJEyDU"
      },
      "execution_count": 2,
      "outputs": []
    },
    {
      "cell_type": "code",
      "source": [
        "# change pwd\n",
        "%cd /content/drive/MyDrive/Kaggle/"
      ],
      "metadata": {
        "colab": {
          "base_uri": "https://localhost:8080/"
        },
        "id": "ascC_gyDE4k9",
        "outputId": "9099203f-5965-4122-984e-15921f0f9e54"
      },
      "execution_count": 3,
      "outputs": [
        {
          "output_type": "stream",
          "name": "stdout",
          "text": [
            "/content/drive/MyDrive/Kaggle\n"
          ]
        }
      ]
    },
    {
      "cell_type": "code",
      "source": [
        "%ls"
      ],
      "metadata": {
        "colab": {
          "base_uri": "https://localhost:8080/"
        },
        "id": "VCf58y0NFYsR",
        "outputId": "9b868914-a020-416d-e4ef-219c49f34eaa"
      },
      "execution_count": 4,
      "outputs": [
        {
          "output_type": "stream",
          "name": "stdout",
          "text": [
            "GM_individual_Tiers.csv  kaggle.json\n",
            "KaggleDemo.ipynb         myntra_products_catalog.csv\n"
          ]
        }
      ]
    },
    {
      "cell_type": "markdown",
      "source": [
        "# Import Kaggle Dataset into Google Drive\n",
        "\n",
        "\n",
        "1.   Choose any Kaggle dataset\n",
        "2.   Download the dataset\n",
        "\n"
      ],
      "metadata": {
        "id": "JlIOI8wtucoz"
      }
    },
    {
      "cell_type": "code",
      "source": [
        "# replace this fictional dataset anjana/list-of-kaggle-grandmasters with a dataset of your choice\n",
        "!kaggle datasets download -d anjana/list-of-kaggle-grandmasters --unzip"
      ],
      "metadata": {
        "colab": {
          "base_uri": "https://localhost:8080/"
        },
        "id": "-JN1dxnUZHa3",
        "outputId": "98bf27d9-5582-4c69-9630-82c9ae3799af"
      },
      "execution_count": 5,
      "outputs": [
        {
          "output_type": "stream",
          "name": "stdout",
          "text": [
            "Downloading list-of-kaggle-grandmasters.zip to /content/drive/MyDrive/Kaggle\n",
            "\r  0% 0.00/3.83k [00:00<?, ?B/s]\n",
            "\r100% 3.83k/3.83k [00:00<00:00, 822kB/s]\n"
          ]
        }
      ]
    },
    {
      "cell_type": "code",
      "source": [
        "%ls"
      ],
      "metadata": {
        "colab": {
          "base_uri": "https://localhost:8080/"
        },
        "id": "80udFPD1FY0Y",
        "outputId": "3063d354-bfca-4968-d779-8442633200d4"
      },
      "execution_count": 7,
      "outputs": [
        {
          "output_type": "stream",
          "name": "stdout",
          "text": [
            "GM_individual_Tiers.csv  kaggle.json\n",
            "KaggleDemo.ipynb         myntra_products_catalog.csv\n"
          ]
        }
      ]
    },
    {
      "cell_type": "markdown",
      "source": [
        "# Import a Kaggle Competition Dataset"
      ],
      "metadata": {
        "id": "uGplSO3rvoYL"
      }
    },
    {
      "cell_type": "code",
      "source": [
        "# Choose a Kaggle Competition dataset\n",
        "!kaggle competitions download -c titanic"
      ],
      "metadata": {
        "colab": {
          "base_uri": "https://localhost:8080/"
        },
        "id": "zDMMxMWNHegc",
        "outputId": "19c5c0af-f460-4679-a55a-b7e501b7f67d"
      },
      "execution_count": 8,
      "outputs": [
        {
          "output_type": "stream",
          "name": "stdout",
          "text": [
            "Downloading titanic.zip to /content/drive/MyDrive/Kaggle\n",
            "\r  0% 0.00/34.1k [00:00<?, ?B/s]\n",
            "\r100% 34.1k/34.1k [00:00<00:00, 7.82MB/s]\n"
          ]
        }
      ]
    },
    {
      "cell_type": "code",
      "source": [
        "# Optional - Unzip files\n",
        "import zipfile\n",
        "for file in os.listdir():\n",
        "    if file.endswith(\".zip\"):\n",
        "        with zipfile.ZipFile(file, \"r\") as zip_file:\n",
        "            zip_file.extractall()\n",
        "        os.remove(file)"
      ],
      "metadata": {
        "id": "e8loSkd-H4Nx"
      },
      "execution_count": 10,
      "outputs": []
    },
    {
      "cell_type": "code",
      "source": [
        "%ls"
      ],
      "metadata": {
        "id": "LbJVfKO9H6Cf"
      },
      "execution_count": null,
      "outputs": []
    },
    {
      "cell_type": "markdown",
      "source": [
        "### Import Data from Google Drive into Kaggle\n",
        "\n",
        "1.   Use conda or pip to download gdown\n",
        "2.   Create a Kaggle Notebook and enable the Internet setting\n",
        "3.   Copy the file ID of the dataset file that you have stored on Google Drive\n",
        "4. Use gdwon to download the dataset into the Kaggle Kernel\n",
        "\n"
      ],
      "metadata": {
        "id": "de38Jtw21erN"
      }
    },
    {
      "cell_type": "code",
      "source": [
        "#Setup Gdrive file download extention \n",
        "!pip install gdown"
      ],
      "metadata": {
        "id": "LJOUR2Y91hTI"
      },
      "execution_count": null,
      "outputs": []
    },
    {
      "cell_type": "markdown",
      "source": [
        ""
      ],
      "metadata": {
        "id": "oeII67VYFJ1X"
      }
    },
    {
      "cell_type": "code",
      "source": [
        "# Copy the file id from a file on Google Drive.\n",
        "# Example:https://drive.google.com/file/d/1-0fp7msHi-yUKVWl_956-DfmeZB50NwX/view?usp=sharing\n",
        "# https://drive.google.com/file/d/{FILE ID}/view?usp=sharing\n",
        "\n",
        "!gdown --id 1-0fp7msHi-yUKVWl_956-DfmeZB50NwX"
      ],
      "metadata": {
        "id": "ZEPP03lZFUQK"
      },
      "execution_count": null,
      "outputs": []
    }
  ]
}