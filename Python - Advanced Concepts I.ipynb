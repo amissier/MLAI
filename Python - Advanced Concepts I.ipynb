{
 "cells": [
  {
   "cell_type": "markdown",
   "metadata": {},
   "source": [
    " # PYTHON FUNDAMENTALS - Rose Missier\n",
    "\n",
    "\n",
    "### Classes and Objects\n",
    "- class is a blueprint for creating objects\n",
    "- Objects are instances of a class\n"
   ]
  },
  {
   "cell_type": "code",
   "execution_count": 47,
   "metadata": {},
   "outputs": [
    {
     "name": "stdout",
     "output_type": "stream",
     "text": [
      "3\n"
     ]
    }
   ],
   "source": [
    "class Asset : # class declaration\n",
    "    age_of_asset = 3 # variable\n",
    "    \n",
    "asset1 = Asset() # class being instantiated\n",
    "print(asset1.age_of_asset) # access variables"
   ]
  },
  {
   "cell_type": "code",
   "execution_count": 48,
   "metadata": {},
   "outputs": [
    {
     "name": "stdout",
     "output_type": "stream",
     "text": [
      "Age of asset Computer  is  3\n"
     ]
    }
   ],
   "source": [
    "class Asset:\n",
    "    \n",
    "    #init to iniliase\n",
    "    def __init__(self, asset_name, asset_age): #self can be any name\n",
    "        self.asset_name = asset_name\n",
    "        self.asset_age = asset_age\n",
    "        \n",
    "a1 = Asset('Computer',3)\n",
    "print(\"Age of asset\",a1.asset_name,\" is \",str(a1.asset_age))"
   ]
  },
  {
   "cell_type": "code",
   "execution_count": 49,
   "metadata": {},
   "outputs": [
    {
     "name": "stdout",
     "output_type": "stream",
     "text": [
      "Keyboard(1)\n"
     ]
    }
   ],
   "source": [
    "class Asset:\n",
    "    def __init__(self, asset_name, asset_age):\n",
    "        self.asset_name = asset_name\n",
    "        self.asset_age = asset_age\n",
    "   # str for printing\n",
    "    def __str__(self):\n",
    "        return f\"{self.asset_name}({self.asset_age})\"\n",
    "\n",
    "a2 = Asset('Keyboard',1)\n",
    "print(a2)"
   ]
  },
  {
   "cell_type": "code",
   "execution_count": 50,
   "metadata": {},
   "outputs": [
    {
     "name": "stdout",
     "output_type": "stream",
     "text": [
      "Mouse(1)\n",
      "Age of Asset  Mouse  is  3\n"
     ]
    }
   ],
   "source": [
    "class Asset:\n",
    "    def __init__(self, asset_name, asset_age):\n",
    "        self.asset_name = asset_name\n",
    "        self.asset_age = asset_age\n",
    "   \n",
    "    def __str__(self):\n",
    "        return f\"{self.asset_name}({self.asset_age})\"\n",
    "    \n",
    "    def getAsset(self):\n",
    "        # print age of asset and asset name\n",
    "      \n",
    "\n",
    "a3 = Asset('Mouse',1)\n",
    "print(a3)\n",
    "a3.getAsset()"
   ]
  },
  {
   "cell_type": "markdown",
   "metadata": {},
   "source": [
    "### Inheritance\n",
    "\n",
    "- is-a relationship between classes\n",
    "- parent and child\n",
    "- inherit functionalities of parent and have your own too"
   ]
  },
  {
   "cell_type": "code",
   "execution_count": 51,
   "metadata": {},
   "outputs": [
    {
     "name": "stdout",
     "output_type": "stream",
     "text": [
      "Tech Asset Bluetooth Mouse has been tagged\n"
     ]
    }
   ],
   "source": [
    "class TechAsset(Asset):\n",
    "    def __init__(self, tname, tage, company):\n",
    "        super().__init__(tname,tage)#super calls parent\n",
    "        self.techCompany = company\n",
    "        \n",
    "    def tagTechAsset(self):\n",
    "        print(f\"Tech Asset {self.asset_name} has been tagged\")\n",
    "ta = TechAsset(\"Bluetooth Mouse\", 3,\"Logitech\")\n",
    "ta.tagTechAsset()"
   ]
  },
  {
   "cell_type": "markdown",
   "metadata": {},
   "source": [
    "### Exception Handling\n",
    "\n",
    "- try to catch errors\n",
    "- except to handle errors\n",
    "- else to execute when no errors\n",
    "- finally to execute regardless of above\n",
    "\n",
    "- throw an error using raise"
   ]
  },
  {
   "cell_type": "code",
   "execution_count": 52,
   "metadata": {},
   "outputs": [
    {
     "name": "stdout",
     "output_type": "stream",
     "text": [
      "Invalid\n",
      "Divide unsuccessful\n"
     ]
    }
   ],
   "source": [
    "def divide(num):\n",
    "    try:\n",
    "        return 12/num\n",
    "    except ZeroDivisionError:\n",
    "        print(\"Invalid\")\n",
    "    finally:\n",
    "        print(\"Divide unsuccessful\")\n",
    "\n",
    "divide(0)"
   ]
  },
  {
   "cell_type": "code",
   "execution_count": 53,
   "metadata": {},
   "outputs": [
    {
     "ename": "Exception",
     "evalue": "Sorry, it's a divide by zero",
     "output_type": "error",
     "traceback": [
      "\u001b[0;31m---------------------------------------------------------------------------\u001b[0m",
      "\u001b[0;31mException\u001b[0m                                 Traceback (most recent call last)",
      "\u001b[0;32m<ipython-input-53-2abe68ceb6f0>\u001b[0m in \u001b[0;36m<module>\u001b[0;34m\u001b[0m\n\u001b[1;32m      3\u001b[0m \u001b[0;34m\u001b[0m\u001b[0m\n\u001b[1;32m      4\u001b[0m \u001b[0;32mif\u001b[0m \u001b[0my\u001b[0m \u001b[0;34m==\u001b[0m \u001b[0;36m0\u001b[0m\u001b[0;34m:\u001b[0m\u001b[0;34m\u001b[0m\u001b[0;34m\u001b[0m\u001b[0m\n\u001b[0;32m----> 5\u001b[0;31m   \u001b[0;32mraise\u001b[0m \u001b[0mException\u001b[0m\u001b[0;34m(\u001b[0m\u001b[0;34m\"Sorry, it's a divide by zero\"\u001b[0m\u001b[0;34m)\u001b[0m\u001b[0;34m\u001b[0m\u001b[0;34m\u001b[0m\u001b[0m\n\u001b[0m",
      "\u001b[0;31mException\u001b[0m: Sorry, it's a divide by zero"
     ]
    }
   ],
   "source": [
    "x = 10\n",
    "y = 0\n",
    "\n",
    "if y == 0:\n",
    "  raise Exception(\"Sorry, it's a divide by zero\")"
   ]
  },
  {
   "cell_type": "code",
   "execution_count": 54,
   "metadata": {},
   "outputs": [
    {
     "name": "stdout",
     "output_type": "stream",
     "text": [
      "Enter a number: 67\n",
      "Valid\n"
     ]
    }
   ],
   "source": [
    "# define Python user-defined exceptions\n",
    "class InvalidInputException(Exception):\n",
    "   \n",
    "    number = 18\n",
    "\n",
    "    try:\n",
    "        input_num = int(input(\"Enter a number: \"))\n",
    "        if :\n",
    "          \n",
    "        else:\n",
    "           \n",
    "\n",
    "    except InvalidInputException:\n",
    "        \n"
   ]
  },
  {
   "cell_type": "markdown",
   "metadata": {},
   "source": [
    "### File handling\n",
    "\n",
    "- open in read / write / append / create mode ( r, w, a, x)\n",
    "- binary / text (b, t)"
   ]
  },
  {
   "cell_type": "code",
   "execution_count": 89,
   "metadata": {},
   "outputs": [],
   "source": [
    "f = open(\"abc.text\",\"r+\")\n"
   ]
  },
  {
   "cell_type": "code",
   "execution_count": 90,
   "metadata": {},
   "outputs": [
    {
     "data": {
      "text/plain": [
       "'\\nhello world\\nd contentAdd contentAdd content'"
      ]
     },
     "execution_count": 90,
     "metadata": {},
     "output_type": "execute_result"
    }
   ],
   "source": [
    "f.read()"
   ]
  },
  {
   "cell_type": "code",
   "execution_count": 91,
   "metadata": {},
   "outputs": [
    {
     "data": {
      "text/plain": [
       "11"
      ]
     },
     "execution_count": 91,
     "metadata": {},
     "output_type": "execute_result"
    }
   ],
   "source": [
    "f.write(\"Add content\")\n"
   ]
  },
  {
   "cell_type": "code",
   "execution_count": 92,
   "metadata": {},
   "outputs": [],
   "source": [
    "f.close()"
   ]
  },
  {
   "cell_type": "code",
   "execution_count": 93,
   "metadata": {},
   "outputs": [],
   "source": [
    "file = open('abc.text', 'r+')\n",
    "try:\n",
    "    file.write('\\nhello world\\n')\n",
    "finally:\n",
    "    file.close()"
   ]
  },
  {
   "cell_type": "code",
   "execution_count": 94,
   "metadata": {},
   "outputs": [
    {
     "name": "stdout",
     "output_type": "stream",
     "text": [
      "\r\n",
      "hello world\r\n",
      "d contentAdd contentAdd contentAdd content"
     ]
    }
   ],
   "source": [
    "cat abc.text"
   ]
  },
  {
   "cell_type": "code",
   "execution_count": 95,
   "metadata": {},
   "outputs": [
    {
     "name": "stdout",
     "output_type": "stream",
     "text": [
      "Something went wrong when opening the file\n"
     ]
    }
   ],
   "source": [
    "# Write a try-except-finally block for a non-existent file or a file that has \n",
    "# no writing permissions\n",
    "\n",
    "try:\n",
    "  f = open(\"demo.py\")\n",
    "  try:\n",
    "    \n",
    "  except:\n",
    "    \n",
    "  finally:\n",
    "    \n",
    "except:\n",
    "  "
   ]
  },
  {
   "cell_type": "code",
   "execution_count": 96,
   "metadata": {},
   "outputs": [],
   "source": [
    "# Exception Handling in Files - USE WITH \n",
    "# closing of all resources ( files in case of exceptions)"
   ]
  },
  {
   "cell_type": "code",
   "execution_count": 97,
   "metadata": {},
   "outputs": [
    {
     "name": "stdout",
     "output_type": "stream",
     "text": [
      "\n",
      "hello world\n",
      "d contentAdd contentAdd contentAdd content\n"
     ]
    }
   ],
   "source": [
    "filename = \"abc.text\"\n",
    "with open(filename,'r') as file:\n",
    "    content = file.read()\n",
    "    print(content)"
   ]
  },
  {
   "cell_type": "markdown",
   "metadata": {},
   "source": [
    "### Lambda\n",
    "\n",
    "- anonymous function \n",
    "- best used inside a function\n",
    "- **lambda arguments : expression**"
   ]
  },
  {
   "cell_type": "code",
   "execution_count": 98,
   "metadata": {},
   "outputs": [
    {
     "data": {
      "text/plain": [
       "5"
      ]
     },
     "execution_count": 98,
     "metadata": {},
     "output_type": "execute_result"
    }
   ],
   "source": [
    "res = lambda x : x\n",
    "res(5)"
   ]
  },
  {
   "cell_type": "code",
   "execution_count": 99,
   "metadata": {},
   "outputs": [
    {
     "data": {
      "text/plain": [
       "4"
      ]
     },
     "execution_count": 99,
     "metadata": {},
     "output_type": "execute_result"
    }
   ],
   "source": [
    "(lambda x : x * x)(2)"
   ]
  },
  {
   "cell_type": "code",
   "execution_count": 100,
   "metadata": {},
   "outputs": [
    {
     "name": "stdout",
     "output_type": "stream",
     "text": [
      "12\n"
     ]
    }
   ],
   "source": [
    "a = lambda x,y : x * y\n",
    "print(a(3,4))"
   ]
  },
  {
   "cell_type": "code",
   "execution_count": 101,
   "metadata": {},
   "outputs": [
    {
     "name": "stdout",
     "output_type": "stream",
     "text": [
      "21\n"
     ]
    }
   ],
   "source": [
    "def multiplyNum(n):\n",
    "    return lambda \n",
    "\n",
    "ans = multiplyNum(3)\n",
    "print(ans(7))"
   ]
  },
  {
   "cell_type": "markdown",
   "metadata": {},
   "source": [
    "### Map\n",
    "- executes a function for each item in an iterable\n",
    "- item is the argument for the function\n",
    "- map ( function, iterables )\n",
    "- returns same number of items as in iterable"
   ]
  },
  {
   "cell_type": "code",
   "execution_count": 102,
   "metadata": {},
   "outputs": [
    {
     "name": "stdout",
     "output_type": "stream",
     "text": [
      "[2, 4, 6, 8, 10, 12]\n"
     ]
    }
   ],
   "source": [
    "#Map - iterate in a list\n",
    "numbers = [1,2,3,4,5,6]\n",
    "\n",
    "def double(a):\n",
    "    return a*2\n",
    "\n",
    "result = map()\n",
    "print(list(result))\n",
    "\n"
   ]
  },
  {
   "cell_type": "code",
   "execution_count": 103,
   "metadata": {},
   "outputs": [
    {
     "name": "stdout",
     "output_type": "stream",
     "text": [
      "[2, 4, 6, 8, 10, 12]\n"
     ]
    }
   ],
   "source": [
    "# Use lambda and map to double a number\n",
    "dbl = lambda a:a*2\n",
    "result1 = map()\n",
    "print(list(result1))"
   ]
  },
  {
   "cell_type": "markdown",
   "metadata": {},
   "source": [
    "### Filter\n",
    "\n",
    "- executes a function to filter out items in a iterable\n",
    "- item is the argument to the function\n",
    "- returns items according to the filter\n",
    "- filter(function, iterable)"
   ]
  },
  {
   "cell_type": "code",
   "execution_count": 104,
   "metadata": {},
   "outputs": [
    {
     "name": "stdout",
     "output_type": "stream",
     "text": [
      "[2, 4, 6]\n"
     ]
    }
   ],
   "source": [
    "def isEven(n):\n",
    "    return n % 2 == 0\n",
    "\n",
    "result = filter(isEven,numbers)\n",
    "\n",
    "print(list(result))"
   ]
  },
  {
   "cell_type": "code",
   "execution_count": 105,
   "metadata": {},
   "outputs": [
    {
     "name": "stdout",
     "output_type": "stream",
     "text": [
      "[2, 4, 6]\n"
     ]
    }
   ],
   "source": [
    "# Use lambdas and filters to get even numbers\n",
    "res1 = filter()\n",
    "print(list(res1))"
   ]
  },
  {
   "cell_type": "markdown",
   "metadata": {},
   "source": [
    "### Reduce\n",
    "- execute a function on all items in an iterable\n",
    "- return a single value based on the function\n",
    "- use reduce function"
   ]
  },
  {
   "cell_type": "code",
   "execution_count": 107,
   "metadata": {},
   "outputs": [],
   "source": [
    "from functools import reduce"
   ]
  },
  {
   "cell_type": "code",
   "execution_count": 108,
   "metadata": {},
   "outputs": [
    {
     "data": {
      "text/plain": [
       "21"
      ]
     },
     "execution_count": 108,
     "metadata": {},
     "output_type": "execute_result"
    }
   ],
   "source": [
    "# Sum of numbers\n",
    "sum = reduce((lambda a,b:a+b),numbers)\n",
    "sum"
   ]
  },
  {
   "cell_type": "code",
   "execution_count": 109,
   "metadata": {},
   "outputs": [
    {
     "name": "stdout",
     "output_type": "stream",
     "text": [
      "200\n"
     ]
    }
   ],
   "source": [
    "# Calculate total expenses\n",
    "expenses = [('Dinner',80),('Ola',120)]\n",
    "sum = 0\n",
    "for e in expenses:\n",
    "  sum += e[1] # second value in every tuple\n",
    "print(sum)"
   ]
  },
  {
   "cell_type": "code",
   "execution_count": 110,
   "metadata": {},
   "outputs": [
    {
     "name": "stdout",
     "output_type": "stream",
     "text": [
      "200\n"
     ]
    }
   ],
   "source": [
    "from functools import reduce\n",
    "sum1 = reduce() # fill in the function using lambdas\n",
    "print(sum1)"
   ]
  },
  {
   "cell_type": "markdown",
   "metadata": {},
   "source": [
    "### PIP\n",
    "- package manager\n",
    "- included by default in the later versions\n",
    "- download https://pypi.org/project/pip/\n",
    "- Install https://pip.pypa.io/en/stable/installation/"
   ]
  },
  {
   "cell_type": "code",
   "execution_count": 111,
   "metadata": {},
   "outputs": [
    {
     "name": "stdout",
     "output_type": "stream",
     "text": [
      "pip 22.1.2 from /Users/Sandy/opt/anaconda3/lib/python3.8/site-packages/pip (python 3.8)\n",
      "Note: you may need to restart the kernel to use updated packages.\n"
     ]
    }
   ],
   "source": [
    "pip --version"
   ]
  },
  {
   "cell_type": "markdown",
   "metadata": {},
   "source": [
    "### Facts\n",
    "\n",
    "**1. Does Python need a main function?**\n",
    "\n",
    "No, not necessary. \n",
    "\n",
    "***\n",
    "def main():\n",
    "\n",
    "    print('Hello')\n",
    "    \n",
    "    if __name__ == \"__main__\":\n",
    "      main()\n",
    " ***\n",
    "      \n",
    "**2. Reload a module?**\n",
    "\n",
    "    import importlib\n",
    "\n",
    "    importlib.reload(random)\n",
    "    \n",
    "**3. Else in loops**\n",
    "    \n",
    "    # else for a for loop\n",
    "    \n",
    "    for i in range(4):\n",
    "        print(i)\n",
    "    else:\n",
    "        print('Exit')\n",
    "        \n",
    "**4 Check if an object is a certain datatype - other than type**\n",
    "\n",
    "    isinstance(200,int)\n",
    "    \n",
    "**5 How do I know if I can use a module and if it is safe to do so?**\n",
    "    \n",
    "    https://pypi.org/search/?q=pytube&o="
   ]
  },
  {
   "cell_type": "markdown",
   "metadata": {},
   "source": [
    "## FUN PROJECT 1 - Word cloud for a JD"
   ]
  },
  {
   "cell_type": "markdown",
   "metadata": {},
   "source": [
    "## FUN PROJECT 2 - QR Code\n"
   ]
  },
  {
   "cell_type": "markdown",
   "metadata": {},
   "source": [
    "## FUN PROJECT 3 - CTRL+V -PASTE"
   ]
  },
  {
   "cell_type": "markdown",
   "metadata": {},
   "source": [
    "## FUN PROJECT 4 - YOUTUBE DOWNLOADER"
   ]
  },
  {
   "cell_type": "markdown",
   "metadata": {},
   "source": [
    "## FUN PROJECT 5 - PLOT YOUR FAVORITE ARTISTS"
   ]
  },
  {
   "cell_type": "code",
   "execution_count": null,
   "metadata": {},
   "outputs": [],
   "source": []
  }
 ],
 "metadata": {
  "kernelspec": {
   "display_name": "Python 3",
   "language": "python",
   "name": "python3"
  },
  "language_info": {
   "codemirror_mode": {
    "name": "ipython",
    "version": 3
   },
   "file_extension": ".py",
   "mimetype": "text/x-python",
   "name": "python",
   "nbconvert_exporter": "python",
   "pygments_lexer": "ipython3",
   "version": "3.8.5"
  }
 },
 "nbformat": 4,
 "nbformat_minor": 4
}
