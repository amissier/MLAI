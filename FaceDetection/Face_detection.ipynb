# FACE DETECTION IN PYTHON
### Requirements - Open CV

- Use the Cascade Classifier to detect faces - https://docs.opencv.org/4.x/de/d37/group__objdetect__cascade__classifier.html
- Various models can be found here - https://github.com/opencv/opencv/tree/4.x/data/haarcascades
- This notebook using the **haarcascade_frontalface_default.xml**

#pip install opencv
import cv2

#load the frontal face detector model. I have saved the file locally
face_cascade = cv2.CascadeClassifier('face_detector.xml')

img = cv2.imread('image.jpg')

faces = face_cascade.detectMultiScale(img, 1.3, 3)

# Iterating through rectangles of detected faces
for (x, y, w, h) in faces: 
  cv2.rectangle(img, (x, y), (x+w, y+h), (255, 0, 0), 2)
cv2.imwrite("DetectedFace.png", img) 
print('Successfully saved')
